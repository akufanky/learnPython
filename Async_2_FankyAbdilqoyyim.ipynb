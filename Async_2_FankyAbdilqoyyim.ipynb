{
  "nbformat": 4,
  "nbformat_minor": 0,
  "metadata": {
    "colab": {
      "provenance": []
    },
    "kernelspec": {
      "name": "python3",
      "display_name": "Python 3"
    },
    "language_info": {
      "name": "python"
    }
  },
  "cells": [
    {
      "cell_type": "markdown",
      "source": [
        "#Python Asyncronous 2 ⭐⭐"
      ],
      "metadata": {
        "id": "ujMNtWG5meS1"
      }
    },
    {
      "cell_type": "markdown",
      "source": [
        "##1. Create a program using one or a combination of all existing Block Statements!\n",
        "`You can see an example from synchronous recording on March, 28th 2024`"
      ],
      "metadata": {
        "id": "vzGk7hKCjSLr"
      }
    },
    {
      "cell_type": "markdown",
      "source": [
        "###Your Turn! 🔥"
      ],
      "metadata": {
        "id": "Owk-qb7I6hVj"
      }
    },
    {
      "cell_type": "code",
      "source": [
        "# I create this program for banking\n",
        "\n",
        "def yang_penting_jalan():\n",
        "  # beginning balance\n",
        "  balance = 5000000\n",
        "\n",
        "  # Loop for transaction\n",
        "  while True:\n",
        "    # menu\n",
        "    print(\"=== Simple ATM ===\")\n",
        "    print(\"1. Check Balance\")\n",
        "    print(\"2. Cash withdrawal\")\n",
        "    print(\"3. Cash deposit\")\n",
        "    print(\"4. Exit\")\n",
        "\n",
        "    # Input from user\n",
        "    choice = int(input(\"Enter your choice (1-4): \"))\n",
        "\n",
        "    # Condition\n",
        "    if choice == 1:\n",
        "      print(\"Your Balance: Rp{}\".format(balance))\n",
        "    elif choice == 2:\n",
        "      amount = int(input(\"Enter the amount of money you want to withdraw: Rp\"))\n",
        "      if amount > balance:\n",
        "        print(\"Your balance is not enough.\")\n",
        "      else:\n",
        "        balance -= amount\n",
        "        print(\"Money successfully withdrawn. Your current balance: Rp{}\".format(balance))\n",
        "    elif choice == 3:\n",
        "      amount = int(input(\"Enter the amount of money you want to deposit: Rp\"))\n",
        "      balance += amount\n",
        "      print(\"Money deposited successfully. Your current balance: Rp{}\".format(balance))\n",
        "    elif choice == 4:\n",
        "      print(\"Thank you for using the ATM.\")\n",
        "      break\n",
        "    else:\n",
        "      print(\"Invalid selection.\")\n",
        "\n",
        "yang_penting_jalan()"
      ],
      "metadata": {
        "id": "IMbnUlRb6reI",
        "colab": {
          "base_uri": "https://localhost:8080/"
        },
        "outputId": "c68436ba-3c3d-4e20-ccc9-e60c62f2f095"
      },
      "execution_count": null,
      "outputs": [
        {
          "output_type": "stream",
          "name": "stdout",
          "text": [
            "=== Simple ATM ===\n",
            "1. Check Balance\n",
            "2. Cash withdrawal\n",
            "3. Cash deposit\n",
            "4. Exit\n",
            "Enter your choice (1-4): 0\n",
            "Invalid selection.\n",
            "=== Simple ATM ===\n",
            "1. Check Balance\n",
            "2. Cash withdrawal\n",
            "3. Cash deposit\n",
            "4. Exit\n",
            "Enter your choice (1-4): 1\n",
            "Your Balance: Rp5000000\n",
            "=== Simple ATM ===\n",
            "1. Check Balance\n",
            "2. Cash withdrawal\n",
            "3. Cash deposit\n",
            "4. Exit\n",
            "Enter your choice (1-4): 2\n",
            "Enter the amount of money you want to withdraw: Rp500000\n",
            "Money successfully withdrawn. Your current balance: Rp4500000\n",
            "=== Simple ATM ===\n",
            "1. Check Balance\n",
            "2. Cash withdrawal\n",
            "3. Cash deposit\n",
            "4. Exit\n",
            "Enter your choice (1-4): 3\n",
            "Enter the amount of money you want to deposit: Rp10000\n",
            "Money deposited successfully. Your current balance: Rp4510000\n",
            "=== Simple ATM ===\n",
            "1. Check Balance\n",
            "2. Cash withdrawal\n",
            "3. Cash deposit\n",
            "4. Exit\n",
            "Enter your choice (1-4): 4\n",
            "Thank you for using the ATM.\n"
          ]
        }
      ]
    },
    {
      "cell_type": "markdown",
      "source": [
        "##2. Rewrite and execute the python program in the image [Here](https://drive.google.com/file/d/1ty1kc7IUKLr3jo9E24sg9KSFRA6E_bqR/view?usp=sharing) ! Then, explain all the functions that you know based on the syntax!"
      ],
      "metadata": {
        "id": "XI3tWN2kjWZ_"
      }
    },
    {
      "cell_type": "markdown",
      "source": [
        "###a. Syntax"
      ],
      "metadata": {
        "id": "1UgoQzPQogJ0"
      }
    },
    {
      "cell_type": "code",
      "source": [
        "'''Program data mahasiswa menggunakan dictionary'''\n",
        "import datetime\n",
        "import os\n",
        "import string\n",
        "import random\n",
        "\n",
        "# template dict mahasiswa\n",
        "mahasiswa_template = {\n",
        "    'nama' : 'nama',\n",
        "    'nim' : '00000000',\n",
        "    'sks_lulus' : 0,\n",
        "    'lahir' : datetime.datetime(1111,1,11)\n",
        "}\n",
        "\n",
        "data_mahasiswa = {}\n",
        "\n",
        "while True :\n",
        "  # os.system('cls') # untuk windows\n",
        "  os.system('cls')\n",
        "  print(f\"{'SELAMAT DATANG':^20}\")\n",
        "  print(f\"{'DATA MAHASISWA':^20}\")\n",
        "  print('-'*20)\n",
        "\n",
        "  mahasiswa = dict.fromkeys(mahasiswa_template.keys())\n",
        "  mahasiswa['nama'] = input('Nama Mahasiswa: ')\n",
        "  mahasiswa['nim'] = input('NIM Mahasiswa: ')\n",
        "  mahasiswa['sks_lulus'] = input('SKS Lulus: ')\n",
        "  TAHUN_LAHIR = int(input('Tahun lahir (YYYY): '))\n",
        "  BULAN_LAHIR = int(input('Bulan lahir (1-12): '))\n",
        "  TANGGAL_LAHIR = int(input('Tanggal lahir (1-31): '))\n",
        "  mahasiswa['lahir'] = datetime.datetime(TAHUN_LAHIR, BULAN_LAHIR, TANGGAL_LAHIR)\n",
        "\n",
        "  KEY = ''.join((random.choice(string.ascii_uppercase)for i in range(6)))\n",
        "  data_mahasiswa.update({KEY:mahasiswa})\n",
        "\n",
        "  # dari tutorial sebelumnya, hilangkan beasiswa\n",
        "  print(f\"\\n{'KEY':<6} {'Nama':<17}  {'NIM':<8}  {'SKS Lulus':<10}  {'Tanggal Lahir':<10}\")\n",
        "  print('-'*60)\n",
        "\n",
        "  for mahasiswa in data_mahasiswa:\n",
        "    KEY = mahasiswa\n",
        "\n",
        "    NAMA = data_mahasiswa[KEY]['nama']\n",
        "    NIM = data_mahasiswa[KEY]['nim']\n",
        "    SKS = data_mahasiswa[KEY]['sks_lulus']\n",
        "    LAHIR = data_mahasiswa[KEY]['lahir'].strftime(\"%x\")\n",
        "\n",
        "    print(f\"{KEY:<6} {NAMA:<17}  {NIM:<8}  {SKS:<10}  {LAHIR:<10}\")\n",
        "\n",
        "    print('\\n')\n",
        "    is_done = input('Mau tambah lagi bro y/n? ')\n",
        "  if is_done == 'n':\n",
        "    break\n",
        "\n",
        "print('\\nAkhir dari program, terima kasih')"
      ],
      "metadata": {
        "id": "xDG0OBB4kQ3n",
        "colab": {
          "base_uri": "https://localhost:8080/"
        },
        "outputId": "414c89fc-0f3a-49c1-e724-f6aaafb221cb"
      },
      "execution_count": null,
      "outputs": [
        {
          "output_type": "stream",
          "name": "stdout",
          "text": [
            "   SELAMAT DATANG   \n",
            "   DATA MAHASISWA   \n",
            "--------------------\n",
            "Nama Mahasiswa: Jini\n",
            "NIM Mahasiswa: 327291093\n",
            "SKS Lulus: 20\n",
            "Tahun lahir (YYYY): 2004\n",
            "Bulan lahir (1-12): 04\n",
            "Tanggal lahir (1-31): 02\n",
            "\n",
            "KEY    Nama               NIM       SKS Lulus   Tanggal Lahir\n",
            "------------------------------------------------------------\n",
            "IZEHPG Jini               327291093  20          04/02/04  \n",
            "\n",
            "\n",
            "Mau tambah lagi bro y/n? y\n",
            "   SELAMAT DATANG   \n",
            "   DATA MAHASISWA   \n",
            "--------------------\n",
            "Nama Mahasiswa: Yono\n",
            "NIM Mahasiswa: 3813994\n",
            "SKS Lulus: 26\n",
            "Tahun lahir (YYYY): 2003\n",
            "Bulan lahir (1-12): 01\n",
            "Tanggal lahir (1-31): 04\n",
            "\n",
            "KEY    Nama               NIM       SKS Lulus   Tanggal Lahir\n",
            "------------------------------------------------------------\n",
            "IZEHPG Jini               327291093  20          04/02/04  \n",
            "\n",
            "\n",
            "Mau tambah lagi bro y/n? n\n",
            "LIMHVP Yono               3813994   26          01/04/03  \n",
            "\n",
            "\n",
            "Mau tambah lagi bro y/n? n\n",
            "\n",
            "Akhir dari program, terima kasih\n"
          ]
        }
      ]
    },
    {
      "cell_type": "markdown",
      "source": [
        "###b. Explanation of Functions"
      ],
      "metadata": {
        "id": "1NvT7Rcbomq6"
      }
    },
    {
      "cell_type": "markdown",
      "source": [
        "1. Import modul:\n",
        "- `datetime`: Digunakan untuk manipulasi tanggal lahir.\n",
        "- `os`: Digunakan untuk membersihkan layar (hanya untuk Windows).\n",
        "- `string`: Digunakan untuk menghasilkan key unik.\n",
        "- `random`: Digunakan untuk menghasilkan key unik.\n",
        "2. Definisi template dictionary:\n",
        "- `mahasiswa_template`: Dictionary yang berisi kunci-kunci data mahasiswa sebagai template.\n",
        "3. Inisialisasi dictionary data mahasiswa:\n",
        "- `data_mahasiswa`: Dictionary untuk menyimpan data semua mahasiswa.\n",
        "4. Looping utama program:\n",
        "- `Looping while True` akan terus berjalan sampai user memasukkan n pada pertanyaan is_done.\n",
        "5. Membersihkan layar:\n",
        "- `os.system('cls')`: Digunakan untuk membersihkan layar (hanya untuk Windows).\n",
        "6. Menampilkan judul program:\n",
        "- `print(f\"{'SELAMAT DATANG':^20}\")`: Menampilkan judul \"SELAMAT DATANG\" di tengah layar.\n",
        "- `print(f\"{'DATA MAHASISWA':^20}\")`: Menampilkan judul \"DATA MAHASISWA\" di tengah layar.\n",
        "7. Menampilkan garis pemisah:\n",
        "- `print('-'*20)`: Menampilkan garis pemisah dengan karakter '-' sebanyak 20 kali.\n",
        "8. Meminta dan menyimpan data mahasiswa baru:\n",
        "- `mahasiswa = dict.fromkeys(mahasiswa_template.keys())`: Membuat dictionary baru mahasiswa dengan kunci-kunci dari mahasiswa_template.\n",
        "- `mahasiswa['nama'] = input('Nama Mahasiswa: ')`: Meminta dan menyimpan nama mahasiswa ke dictionary mahasiswa.\n",
        "- `mahasiswa['nim'] = input('NIM Mahasiswa: ')`: Meminta dan menyimpan NIM mahasiswa ke dictionary mahasiswa.\n",
        "- `mahasiswa['sks_lulus'] = input('SKS Lulus: ')`: Meminta dan menyimpan SKS lulus mahasiswa ke dictionary mahasiswa.\n",
        "- `TAHUN_LAHIR = int(input('Tahun lahir (YYYY): '))`: Meminta tahun lahir mahasiswa dan mengubahnya menjadi integer.\n",
        "- `BULAN_LAHIR = int(input('Bulan lahir (1-12): '))`: Meminta bulan lahir mahasiswa dan mengubahnya menjadi integer.\n",
        "- `TANGGAL_LAHIR = int(input('Tanggal lahir (1-31): '))`: Meminta tanggal lahir mahasiswa dan mengubahnya menjadi integer.\n",
        "- `mahasiswa['lahir'] = datetime.datetime(TAHUN_LAHIR, BULAN_LAHIR, TANGGAL_LAHIR)`: Menyimpan tanggal lahir ke dictionary mahasiswa dalam format datetime.\n",
        "9. Menghasilkan key unik:\n",
        "- `KEY = ''.join((random.choice(string.ascii_uppercase)for i in range(6)))`: Menghasilkan string acak dengan 6 karakter huruf kapital dan menyimpannya ke KEY.\n",
        "10. Menambahkan data mahasiswa baru ke dictionary data mahasiswa:\n",
        "- `data_mahasiswa.update({KEY:mahasiswa})`: Menambahkan data mahasiswa baru dengan key KEY ke dictionary data_mahasiswa.\n",
        "11. Menampilkan tabel data mahasiswa:\n",
        "- `print(f\"\\n{'KEY':<6} {'Nama':<17}  {'NIM':<8}  {'SKS Lulus':<10}  {'Tanggal Lahir':<10}\")`: Menampilkan header tabel.\n",
        "- `print('-'*60)`: Menampilkan garis pemisah.\n",
        "- `for mahasiswa in data_mahasiswa:`: Looping untuk setiap data mahasiswa di dictionary data_mahasiswa.\n",
        "- `KEY = mahasiswa`: Mengambil key dari data mahasiswa.\n",
        "- `NAMA = data_mahasiswa[KEY]['nama']`: Mengambil nama mahasiswa dari dictionary data mahasiswa.\n",
        "- `NIM = data_mahasiswa[KEY]['nim']`: Mengambil NIM mahasiswa dari dictionary data mahasiswa.\n",
        "- `SKS = data_mahasiswa[KEY]['sks_lulus']`: Mengambil SKS lulus mahasiswa dari dictionary data mahasiswa.\n",
        "- `LAHIR = data_mahasiswa[KEY]['lahir'].strftime(\"%x\")`: Mengubah tanggal lahir ke format string dan menyimpannya ke LAHIR.\n",
        "- `print(f\"{KEY:<6} {NAMA:<17}  {NIM:<8}  {SKS:<10}  {LAHIR:<10}\")`: Menampilkan data mahasiswa dalam format tabel.\n",
        "12. Menangani input user untuk berhenti:\n",
        "- `is_done = input('Mau tambah lagi bro y/n? ')`: Menanyakan kepada user apakah ingin menambahkan data lagi.\n",
        "- `if is_done == 'n':`: Jika user memasukkan 'n', maka loop while True akan berhenti.\n",
        "13. Menampilkan pesan akhir program:\n",
        "- `print('\\nAkhir dari program, terima kasih')`: Menampilkan pesan akhir program."
      ],
      "metadata": {
        "id": "bu5zJNF9opcY"
      }
    }
  ]
}