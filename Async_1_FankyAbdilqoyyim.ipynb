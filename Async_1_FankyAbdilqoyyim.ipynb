{
  "nbformat": 4,
  "nbformat_minor": 0,
  "metadata": {
    "colab": {
      "provenance": [],
      "include_colab_link": true
    },
    "kernelspec": {
      "name": "python3",
      "display_name": "Python 3"
    },
    "language_info": {
      "name": "python"
    }
  },
  "cells": [
    {
      "cell_type": "markdown",
      "metadata": {
        "id": "view-in-github",
        "colab_type": "text"
      },
      "source": [
        "<a href=\"https://colab.research.google.com/github/akufanky/learnPython/blob/master/Async_1_FankyAbdilqoyyim.ipynb\" target=\"_parent\"><img src=\"https://colab.research.google.com/assets/colab-badge.svg\" alt=\"Open In Colab\"/></a>"
      ]
    },
    {
      "cell_type": "markdown",
      "source": [
        "#Python Asyncronous 1 ⭐"
      ],
      "metadata": {
        "id": "ujMNtWG5meS1"
      }
    },
    {
      "cell_type": "markdown",
      "source": [
        "##A. Create a python syntax based on the instructions below!"
      ],
      "metadata": {
        "id": "Uvl5FInzOP_r"
      }
    },
    {
      "cell_type": "markdown",
      "source": [
        "1. Instruction:<br>\n",
        "Create a variable list_sample in the form of a \"list\" with 10 elements! Return list_sample!\n"
      ],
      "metadata": {
        "id": "ZhFqwgxre-LR"
      }
    },
    {
      "cell_type": "code",
      "source": [
        "list_sample = [\"Nam\",36,9.8,True,\"Samsan\",False,'Tech','San',8.7,\"Xixixi\"]\n",
        "print('=== Memanggil list secara langsung ===')\n",
        "print(list_sample)\n",
        "\n",
        "print('\\n=== Memanggil list secara satu per satu sesuai index ===')\n",
        "for x in list_sample :\n",
        "  print(x)"
      ],
      "metadata": {
        "id": "OHPrV_cHfAuA",
        "colab": {
          "base_uri": "https://localhost:8080/"
        },
        "outputId": "7ccd68ef-dc79-4845-e7b9-61e96061cd53"
      },
      "execution_count": null,
      "outputs": [
        {
          "output_type": "stream",
          "name": "stdout",
          "text": [
            "=== Memanggil list secara langsung ===\n",
            "['Nam', 36, 9.8, True, 'Samsan', False, 'Tech', 'San', 8.7, 'Xixixi']\n",
            "\n",
            "=== Memanggil list secara satu per satu sesuai index ===\n",
            "Nam\n",
            "36\n",
            "9.8\n",
            "True\n",
            "Samsan\n",
            "False\n",
            "Tech\n",
            "San\n",
            "8.7\n",
            "Xixixi\n"
          ]
        }
      ]
    },
    {
      "cell_type": "markdown",
      "source": [
        "2. Instruction: <br>\n",
        "Return the second element from list_sample!\n"
      ],
      "metadata": {
        "id": "o4XHrfWefBNu"
      }
    },
    {
      "cell_type": "code",
      "source": [
        "print(list_sample[1])"
      ],
      "metadata": {
        "id": "Vi0LaAAIfDgd",
        "colab": {
          "base_uri": "https://localhost:8080/"
        },
        "outputId": "b9251da0-4afc-4d2d-fc28-807887fe8cf8"
      },
      "execution_count": null,
      "outputs": [
        {
          "output_type": "stream",
          "name": "stdout",
          "text": [
            "36\n"
          ]
        }
      ]
    },
    {
      "cell_type": "markdown",
      "source": [
        "3. Instruction:<br>\n",
        "Add a new element in the form of a list with 5 elements in the sixth position! Return list_sample!\n"
      ],
      "metadata": {
        "id": "WgCBJz-vfD0N"
      }
    },
    {
      "cell_type": "code",
      "source": [
        "new_list = [\"Dal\",34,8.5,'Mi',True]\n",
        "list_sample.insert(5,new_list)\n",
        "print(list_sample)"
      ],
      "metadata": {
        "id": "fOi3yR4ufGJS",
        "colab": {
          "base_uri": "https://localhost:8080/"
        },
        "outputId": "2fb01638-e385-4607-c9a1-32253d4bb47d"
      },
      "execution_count": null,
      "outputs": [
        {
          "output_type": "stream",
          "name": "stdout",
          "text": [
            "['Nam', 36, 9.8, True, 'Samsan', ['Dal', 34, 8.5, 'Mi', True], False, 'Tech', 'San', 8.7, 'Xixixi']\n"
          ]
        }
      ]
    },
    {
      "cell_type": "markdown",
      "source": [
        "4. Instruction:<br>\n",
        "Return the 4th element of the list created in instruction number 3!\n"
      ],
      "metadata": {
        "id": "i5H7mmuGfGjq"
      }
    },
    {
      "cell_type": "code",
      "source": [
        "print(list_sample[5][3])"
      ],
      "metadata": {
        "id": "ZsUAcm_0fIrY",
        "colab": {
          "base_uri": "https://localhost:8080/"
        },
        "outputId": "6648708c-c231-4d51-c4ee-6b7a09b9bff7"
      },
      "execution_count": null,
      "outputs": [
        {
          "output_type": "stream",
          "name": "stdout",
          "text": [
            "Mi\n"
          ]
        }
      ]
    },
    {
      "cell_type": "markdown",
      "source": [
        "5. Instruction:<br>\n",
        "Update the 10th element of list_sample with 'Practice'. Return list_sample!\n"
      ],
      "metadata": {
        "id": "aqYnHpgXfJBj"
      }
    },
    {
      "cell_type": "code",
      "source": [
        "list_sample[10] = 'Practice'\n",
        "print(list_sample)"
      ],
      "metadata": {
        "id": "AM_8Q2dAfLM2",
        "colab": {
          "base_uri": "https://localhost:8080/"
        },
        "outputId": "af038e36-20a4-4de4-88cd-3c6b6769c9ab"
      },
      "execution_count": null,
      "outputs": [
        {
          "output_type": "stream",
          "name": "stdout",
          "text": [
            "['Nam', 36, 9.8, True, 'Samsan', ['Dal', 34, 8.5, 'Mi', True], False, 'Tech', 'San', 8.7, 'Practice']\n"
          ]
        }
      ]
    },
    {
      "cell_type": "markdown",
      "source": [
        "6. Instruction:<br>\n",
        "Return the 10th output element that has been changed!\n"
      ],
      "metadata": {
        "id": "hWQBMh32fLdn"
      }
    },
    {
      "cell_type": "code",
      "source": [
        "print(list_sample[10])"
      ],
      "metadata": {
        "id": "x3b44zOyfNxj",
        "colab": {
          "base_uri": "https://localhost:8080/"
        },
        "outputId": "9ec4d62d-9270-47c9-eb15-0570d52486ae"
      },
      "execution_count": null,
      "outputs": [
        {
          "output_type": "stream",
          "name": "stdout",
          "text": [
            "Practice\n"
          ]
        }
      ]
    },
    {
      "cell_type": "markdown",
      "source": [
        "7. Instruction:<br>\n",
        "Return the count of one of the elements in list_sample!\n"
      ],
      "metadata": {
        "id": "EGj8ZRpgfOTT"
      }
    },
    {
      "cell_type": "code",
      "source": [
        "print(list_sample.count(True))"
      ],
      "metadata": {
        "id": "BFAmE5sofRFY",
        "colab": {
          "base_uri": "https://localhost:8080/"
        },
        "outputId": "e7e82893-dff6-4bde-a5dc-46c021db5929"
      },
      "execution_count": null,
      "outputs": [
        {
          "output_type": "stream",
          "name": "stdout",
          "text": [
            "1\n"
          ]
        }
      ]
    },
    {
      "cell_type": "markdown",
      "source": [
        "8. Instruction:<br>\n",
        "Return the number of elements in the list_sample!\n"
      ],
      "metadata": {
        "id": "yUwF9mkWfRl3"
      }
    },
    {
      "cell_type": "code",
      "source": [
        "print(len(list_sample))"
      ],
      "metadata": {
        "id": "FFBW7gqNfTv1",
        "colab": {
          "base_uri": "https://localhost:8080/"
        },
        "outputId": "0ccfb869-a594-4777-c476-498ec2a7caf4"
      },
      "execution_count": null,
      "outputs": [
        {
          "output_type": "stream",
          "name": "stdout",
          "text": [
            "11\n"
          ]
        }
      ]
    },
    {
      "cell_type": "markdown",
      "source": [
        "9. Instruction:<br>\n",
        "Remove elements in the form of lists from list_sample! Return list_sample!\n"
      ],
      "metadata": {
        "id": "QYAYnblVfUL0"
      }
    },
    {
      "cell_type": "code",
      "source": [
        "list_sample.remove(new_list)\n",
        "print(list_sample)"
      ],
      "metadata": {
        "id": "afTN0X24fWMb",
        "colab": {
          "base_uri": "https://localhost:8080/"
        },
        "outputId": "1c29957d-0b26-48c0-c2a1-8a422603a92a"
      },
      "execution_count": null,
      "outputs": [
        {
          "output_type": "stream",
          "name": "stdout",
          "text": [
            "['Nam', 36, 9.8, True, 'Samsan', False, 'Tech', 'San', 8.7, 'Practice']\n"
          ]
        }
      ]
    },
    {
      "cell_type": "markdown",
      "source": [
        "10. Instruction:<br>\n",
        "Remove all elements from the list_sample! Return list_sample!"
      ],
      "metadata": {
        "id": "US0fo3_jfWb7"
      }
    },
    {
      "cell_type": "code",
      "source": [
        "print(list_sample.clear())\n",
        "print(list_sample)"
      ],
      "metadata": {
        "id": "AgicceMwfXSy",
        "colab": {
          "base_uri": "https://localhost:8080/"
        },
        "outputId": "2228274a-0142-4d90-cbb7-2463a4270bbd"
      },
      "execution_count": null,
      "outputs": [
        {
          "output_type": "stream",
          "name": "stdout",
          "text": [
            "None\n",
            "[]\n"
          ]
        }
      ]
    },
    {
      "cell_type": "markdown",
      "source": [
        "##B. Make a simple program about mathematical calculations!"
      ],
      "metadata": {
        "id": "WK4KxUGqm75X"
      }
    },
    {
      "cell_type": "markdown",
      "source": [
        "###1st Example"
      ],
      "metadata": {
        "id": "EWngJ2Ya5TI0"
      }
    },
    {
      "cell_type": "code",
      "source": [
        "\n",
        "#meminta input dari user\n",
        "kilometer = float(input(\"Masukan bilangan yang ingin di konversi: \"))\n",
        "\n",
        "#konversi kilometer ke meter\n",
        "meter = kilometer * 1000\n",
        "\n",
        "#menampilkan hasil konversi\n",
        "print(f\"{kilometer} kilometer = {meter} meter\")"
      ],
      "metadata": {
        "id": "mE619GrXnF4x",
        "colab": {
          "base_uri": "https://localhost:8080/"
        },
        "outputId": "6415c459-73fe-497e-ae65-af3e5fa11085"
      },
      "execution_count": null,
      "outputs": [
        {
          "output_type": "stream",
          "name": "stdout",
          "text": [
            "Masukan bilangan yang ingin di konversi: 5\n",
            "5.0 kilometer = 5000.0 meter\n"
          ]
        }
      ]
    },
    {
      "cell_type": "markdown",
      "source": [
        "###2nd Example"
      ],
      "metadata": {
        "id": "veizWpzo5Wkw"
      }
    },
    {
      "cell_type": "code",
      "source": [
        "# Menginput Alas dan Tinggi Segitiga\n",
        "alas = float(input('Tulis Alas Segitiga: '))\n",
        "tinggi = float(input('Tulis Tinggi Segitiga: '))\n",
        "\n",
        "# Hitung Luas Segitiga\n",
        "luas = (alas * tinggi) / 2\n",
        "\n",
        "#Menampilkan Hasil Perhitungan\n",
        "print(f'Luas Segitiga tersebut adalah {luas}')"
      ],
      "metadata": {
        "id": "B7LRJNE85Y3B",
        "colab": {
          "base_uri": "https://localhost:8080/"
        },
        "outputId": "5a4a6aa2-8851-4efb-84bd-d664ad9fd22f"
      },
      "execution_count": null,
      "outputs": [
        {
          "output_type": "stream",
          "name": "stdout",
          "text": [
            "Tulis Alas Segitiga: 9\n",
            "Tulis Tinggi Segitiga: 12\n",
            "Luas Segitiga tersebut adalah 54.0\n"
          ]
        }
      ]
    },
    {
      "cell_type": "markdown",
      "source": [
        "###Your Turn! 🔥"
      ],
      "metadata": {
        "id": "Owk-qb7I6hVj"
      }
    },
    {
      "cell_type": "code",
      "source": [
        "# Program untuk mencari Volume, Luas dan Keliling Bangun ruang bola\n",
        "# Volume = 4/3 * π * r^3\n",
        "# Luas = 4π * r^2\n",
        "# Keliling = 2π * r\n",
        "\n",
        "phi = 3.14\n",
        "r = int(input(\"Masukkan jari - jari bola: \"))\n",
        "\n",
        "v = (4/3) * phi * r ** 3\n",
        "l = (4 * phi) * r ** 2\n",
        "k = (2 * phi) * r\n",
        "\n",
        "print(f\"Volume bola = {v} cm3\")\n",
        "print(f\"Luas bola = {l} cm2\")\n",
        "print(f\"Keliling bola = {k} cm\")"
      ],
      "metadata": {
        "id": "IMbnUlRb6reI",
        "colab": {
          "base_uri": "https://localhost:8080/"
        },
        "outputId": "033168d6-77aa-4706-a15c-fa1d8af88b40"
      },
      "execution_count": null,
      "outputs": [
        {
          "output_type": "stream",
          "name": "stdout",
          "text": [
            "Masukkan jari - jari bola: 20\n",
            "Volume bola = 33493.333333333336 cm3\n",
            "Luas bola = 5024.0 cm2\n",
            "Keliling bola = 125.60000000000001 cm\n"
          ]
        }
      ]
    }
  ]
}